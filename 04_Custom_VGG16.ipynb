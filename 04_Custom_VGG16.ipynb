{
 "cells": [
  {
   "cell_type": "code",
   "execution_count": 2,
   "id": "4c20b6c3-7100-4222-826c-c0d4612281c1",
   "metadata": {
    "tags": []
   },
   "outputs": [],
   "source": [
    "# unzip files\n",
    "# !unzip \"/home/jovyan/work/Assignment_4/files.zip\" -d \"./files\""
   ]
  },
  {
   "cell_type": "code",
   "execution_count": 4,
   "id": "669b160d-897b-4652-baaf-7af7b82612ca",
   "metadata": {
    "tags": []
   },
   "outputs": [],
   "source": [
    "import pytorch_lightning as pl\n",
    "import torch\n",
    "import torch.nn as nn\n",
    "import torch.nn.functional as F\n",
    "import torchvision as torchvision\n",
    "from pytorch_lightning.callbacks import EarlyStopping\n",
    "from torch.nn.functional import cross_entropy\n",
    "from sklearn.metrics import accuracy_score\n",
    "from torch.utils.data import DataLoader, random_split\n",
    "from torch.optim import Adam\n",
    "from torch.optim.lr_scheduler import StepLR\n",
    "from pytorch_lightning import loggers as pl_loggers\n",
    "from torchmetrics import Accuracy\n",
    "from pytorch_lightning import LightningModule, Trainer"
   ]
  },
  {
   "cell_type": "code",
   "execution_count": 15,
   "id": "fb850756-cd88-432c-b29c-41804a0d6949",
   "metadata": {
    "tags": []
   },
   "outputs": [],
   "source": [
    "# Exercise 4: Data Loading\n",
    "class DataLoading:\n",
    "    def __init__(self):\n",
    "        self.filePath = \"./files/files/\"\n",
    "        self.batch_size = 16\n",
    "\n",
    "    def load_data(self):\n",
    "\n",
    "        train_set = torchvision.datasets.ImageFolder(root=self.filePath + \"train\",\n",
    "                                                     transform=torchvision.transforms.Compose(\n",
    "                                                         [torchvision.transforms.ToTensor(),\n",
    "                                                          torchvision.transforms.Resize((224,224))]))\n",
    "\n",
    "        test_set = torchvision.datasets.ImageFolder(root=self.filePath + \"test\",\n",
    "                                                    transform=torchvision.transforms.Compose(\n",
    "                                                        [torchvision.transforms.ToTensor(),\n",
    "                                                         torchvision.transforms.Resize((224,224))]))\n",
    "        trainlength = round(0.9 * len(train_set))\n",
    "        vallength = round(0.1 * len(train_set))\n",
    "        train_set, val_set = random_split(train_set, [trainlength, vallength])\n",
    "\n",
    "        train_loader = DataLoader(train_set, batch_size=self.batch_size, shuffle=True)\n",
    "        val_loader = DataLoader(val_set, batch_size=self.batch_size, shuffle=False)\n",
    "        test_loader = DataLoader(test_set, batch_size=self.batch_size, shuffle=False)\n",
    "\n",
    "        return train_loader, val_loader, test_loader"
   ]
  },
  {
   "cell_type": "code",
   "execution_count": 17,
   "id": "0e50baea-6394-4126-92d5-de44795b97d1",
   "metadata": {
    "tags": []
   },
   "outputs": [
    {
     "name": "stderr",
     "output_type": "stream",
     "text": [
      "/opt/conda/lib/python3.10/site-packages/torchvision/models/_utils.py:208: UserWarning: The parameter 'pretrained' is deprecated since 0.13 and may be removed in the future, please use 'weights' instead.\n",
      "  warnings.warn(\n",
      "/opt/conda/lib/python3.10/site-packages/torchvision/models/_utils.py:223: UserWarning: Arguments other than a weight enum or `None` for 'weights' are deprecated since 0.13 and may be removed in the future. The current behavior is equivalent to passing `weights=VGG16_Weights.IMAGENET1K_V1`. You can also use `weights=VGG16_Weights.DEFAULT` to get the most up-to-date weights.\n",
      "  warnings.warn(msg)\n",
      "GPU available: True (cuda), used: True\n",
      "TPU available: False, using: 0 TPU cores\n",
      "IPU available: False, using: 0 IPUs\n",
      "HPU available: False, using: 0 HPUs\n",
      "LOCAL_RANK: 0 - CUDA_VISIBLE_DEVICES: [0]\n",
      "\n",
      "  | Name      | Type               | Params\n",
      "-------------------------------------------------\n",
      "0 | vgg16     | VGG                | 134 M \n",
      "1 | train_acc | MulticlassAccuracy | 0     \n",
      "2 | val_acc   | MulticlassAccuracy | 0     \n",
      "3 | test_acc  | MulticlassAccuracy | 0     \n",
      "-------------------------------------------------\n",
      "20.5 K    Trainable params\n",
      "134 M     Non-trainable params\n",
      "134 M     Total params\n",
      "537.124   Total estimated model params size (MB)\n"
     ]
    },
    {
     "data": {
      "application/vnd.jupyter.widget-view+json": {
       "model_id": "",
       "version_major": 2,
       "version_minor": 0
      },
      "text/plain": [
       "Sanity Checking: |          | 0/? [00:00<?, ?it/s]"
      ]
     },
     "metadata": {},
     "output_type": "display_data"
    },
    {
     "name": "stderr",
     "output_type": "stream",
     "text": [
      "/opt/conda/lib/python3.10/site-packages/pytorch_lightning/trainer/connectors/data_connector.py:441: The 'train_dataloader' does not have many workers which may be a bottleneck. Consider increasing the value of the `num_workers` argument` to `num_workers=127` in the `DataLoader` to improve performance.\n"
     ]
    },
    {
     "data": {
      "application/vnd.jupyter.widget-view+json": {
       "model_id": "f3cf29a9ba124f6b9a2a07d08cc2410a",
       "version_major": 2,
       "version_minor": 0
      },
      "text/plain": [
       "Training: |          | 0/? [00:00<?, ?it/s]"
      ]
     },
     "metadata": {},
     "output_type": "display_data"
    },
    {
     "data": {
      "application/vnd.jupyter.widget-view+json": {
       "model_id": "",
       "version_major": 2,
       "version_minor": 0
      },
      "text/plain": [
       "Validation: |          | 0/? [00:00<?, ?it/s]"
      ]
     },
     "metadata": {},
     "output_type": "display_data"
    },
    {
     "name": "stdout",
     "output_type": "stream",
     "text": [
      "Epoch 0 - Train Accuracy: 0.5514\n"
     ]
    },
    {
     "data": {
      "application/vnd.jupyter.widget-view+json": {
       "model_id": "",
       "version_major": 2,
       "version_minor": 0
      },
      "text/plain": [
       "Validation: |          | 0/? [00:00<?, ?it/s]"
      ]
     },
     "metadata": {},
     "output_type": "display_data"
    },
    {
     "name": "stdout",
     "output_type": "stream",
     "text": [
      "Epoch 1 - Train Accuracy: 0.7516\n"
     ]
    },
    {
     "data": {
      "application/vnd.jupyter.widget-view+json": {
       "model_id": "",
       "version_major": 2,
       "version_minor": 0
      },
      "text/plain": [
       "Validation: |          | 0/? [00:00<?, ?it/s]"
      ]
     },
     "metadata": {},
     "output_type": "display_data"
    },
    {
     "name": "stdout",
     "output_type": "stream",
     "text": [
      "Epoch 2 - Train Accuracy: 0.7906\n"
     ]
    },
    {
     "data": {
      "application/vnd.jupyter.widget-view+json": {
       "model_id": "",
       "version_major": 2,
       "version_minor": 0
      },
      "text/plain": [
       "Validation: |          | 0/? [00:00<?, ?it/s]"
      ]
     },
     "metadata": {},
     "output_type": "display_data"
    },
    {
     "name": "stdout",
     "output_type": "stream",
     "text": [
      "Epoch 3 - Train Accuracy: 0.7997\n"
     ]
    },
    {
     "data": {
      "application/vnd.jupyter.widget-view+json": {
       "model_id": "",
       "version_major": 2,
       "version_minor": 0
      },
      "text/plain": [
       "Validation: |          | 0/? [00:00<?, ?it/s]"
      ]
     },
     "metadata": {},
     "output_type": "display_data"
    },
    {
     "name": "stdout",
     "output_type": "stream",
     "text": [
      "Epoch 4 - Train Accuracy: 0.7958\n"
     ]
    },
    {
     "data": {
      "application/vnd.jupyter.widget-view+json": {
       "model_id": "",
       "version_major": 2,
       "version_minor": 0
      },
      "text/plain": [
       "Validation: |          | 0/? [00:00<?, ?it/s]"
      ]
     },
     "metadata": {},
     "output_type": "display_data"
    },
    {
     "name": "stdout",
     "output_type": "stream",
     "text": [
      "Epoch 5 - Train Accuracy: 0.7867\n"
     ]
    },
    {
     "data": {
      "application/vnd.jupyter.widget-view+json": {
       "model_id": "",
       "version_major": 2,
       "version_minor": 0
      },
      "text/plain": [
       "Validation: |          | 0/? [00:00<?, ?it/s]"
      ]
     },
     "metadata": {},
     "output_type": "display_data"
    },
    {
     "name": "stdout",
     "output_type": "stream",
     "text": [
      "Epoch 6 - Train Accuracy: 0.7893\n"
     ]
    },
    {
     "data": {
      "application/vnd.jupyter.widget-view+json": {
       "model_id": "",
       "version_major": 2,
       "version_minor": 0
      },
      "text/plain": [
       "Validation: |          | 0/? [00:00<?, ?it/s]"
      ]
     },
     "metadata": {},
     "output_type": "display_data"
    },
    {
     "name": "stdout",
     "output_type": "stream",
     "text": [
      "Epoch 7 - Train Accuracy: 0.8075\n",
      "Max Train Accuracy Achieved: 0.8075\n"
     ]
    },
    {
     "name": "stderr",
     "output_type": "stream",
     "text": [
      "Restoring states from the checkpoint path at logs/lightning_logs/version_1/checkpoints/epoch=7-step=392.ckpt\n",
      "LOCAL_RANK: 0 - CUDA_VISIBLE_DEVICES: [0]\n",
      "Loaded model weights from the checkpoint at logs/lightning_logs/version_1/checkpoints/epoch=7-step=392.ckpt\n",
      "/opt/conda/lib/python3.10/site-packages/pytorch_lightning/trainer/connectors/data_connector.py:441: The 'test_dataloader' does not have many workers which may be a bottleneck. Consider increasing the value of the `num_workers` argument` to `num_workers=127` in the `DataLoader` to improve performance.\n"
     ]
    },
    {
     "data": {
      "application/vnd.jupyter.widget-view+json": {
       "model_id": "14da88b8abb647c9a43fac6f0ba994a8",
       "version_major": 2,
       "version_minor": 0
      },
      "text/plain": [
       "Testing: |          | 0/? [00:00<?, ?it/s]"
      ]
     },
     "metadata": {},
     "output_type": "display_data"
    },
    {
     "data": {
      "text/html": [
       "<pre style=\"white-space:pre;overflow-x:auto;line-height:normal;font-family:Menlo,'DejaVu Sans Mono',consolas,'Courier New',monospace\">┏━━━━━━━━━━━━━━━━━━━━━━━━━━━┳━━━━━━━━━━━━━━━━━━━━━━━━━━━┓\n",
       "┃<span style=\"font-weight: bold\">        Test metric        </span>┃<span style=\"font-weight: bold\">       DataLoader 0        </span>┃\n",
       "┡━━━━━━━━━━━━━━━━━━━━━━━━━━━╇━━━━━━━━━━━━━━━━━━━━━━━━━━━┩\n",
       "│<span style=\"color: #008080; text-decoration-color: #008080\">       avg_test_acc        </span>│<span style=\"color: #800080; text-decoration-color: #800080\">    0.6426281929016113     </span>│\n",
       "│<span style=\"color: #008080; text-decoration-color: #008080\">       avg_test_loss       </span>│<span style=\"color: #800080; text-decoration-color: #800080\">    1.8907215595245361     </span>│\n",
       "│<span style=\"color: #008080; text-decoration-color: #008080\">         test_acc          </span>│<span style=\"color: #800080; text-decoration-color: #800080\">     0.644444465637207     </span>│\n",
       "│<span style=\"color: #008080; text-decoration-color: #008080\">         test_loss         </span>│<span style=\"color: #800080; text-decoration-color: #800080\">     1.800942301750183     </span>│\n",
       "└───────────────────────────┴───────────────────────────┘\n",
       "</pre>\n"
      ],
      "text/plain": [
       "┏━━━━━━━━━━━━━━━━━━━━━━━━━━━┳━━━━━━━━━━━━━━━━━━━━━━━━━━━┓\n",
       "┃\u001b[1m \u001b[0m\u001b[1m       Test metric       \u001b[0m\u001b[1m \u001b[0m┃\u001b[1m \u001b[0m\u001b[1m      DataLoader 0       \u001b[0m\u001b[1m \u001b[0m┃\n",
       "┡━━━━━━━━━━━━━━━━━━━━━━━━━━━╇━━━━━━━━━━━━━━━━━━━━━━━━━━━┩\n",
       "│\u001b[36m \u001b[0m\u001b[36m      avg_test_acc       \u001b[0m\u001b[36m \u001b[0m│\u001b[35m \u001b[0m\u001b[35m   0.6426281929016113    \u001b[0m\u001b[35m \u001b[0m│\n",
       "│\u001b[36m \u001b[0m\u001b[36m      avg_test_loss      \u001b[0m\u001b[36m \u001b[0m│\u001b[35m \u001b[0m\u001b[35m   1.8907215595245361    \u001b[0m\u001b[35m \u001b[0m│\n",
       "│\u001b[36m \u001b[0m\u001b[36m        test_acc         \u001b[0m\u001b[36m \u001b[0m│\u001b[35m \u001b[0m\u001b[35m    0.644444465637207    \u001b[0m\u001b[35m \u001b[0m│\n",
       "│\u001b[36m \u001b[0m\u001b[36m        test_loss        \u001b[0m\u001b[36m \u001b[0m│\u001b[35m \u001b[0m\u001b[35m    1.800942301750183    \u001b[0m\u001b[35m \u001b[0m│\n",
       "└───────────────────────────┴───────────────────────────┘\n"
      ]
     },
     "metadata": {},
     "output_type": "display_data"
    }
   ],
   "source": [
    "class CustomVGG16(pl.LightningModule):\n",
    "# Exercise 1: Convolutional Neural Network Architecture Definition\n",
    "    def __init__(self):\n",
    "        super(CustomVGG16, self).__init__()\n",
    "        \n",
    "        # Load the Pretrained VGG16 model\n",
    "        self.vgg16 = torchvision.models.vgg16(pretrained=True)\n",
    "        \n",
    "        # Freeze the layers of the pretrained VGG16 model\n",
    "        for param in self.vgg16.parameters():\n",
    "            param.requires_grad = False\n",
    "        \n",
    "        # Replace the last layer of the pre-trained VGG16 model with a custom fully connected \n",
    "        # layer containing the appropriate number of output neurons w.r.t. classes\n",
    "        in_features = self.vgg16.classifier[-1].in_features       \n",
    "        self.vgg16.classifier[-1] = nn.Linear(in_features=4096, out_features=5)\n",
    "        \n",
    "        self.train_acc = Accuracy(task=\"multiclass\", num_classes=5)\n",
    "        self.val_acc = Accuracy(task=\"multiclass\", num_classes=5)\n",
    "        self.test_acc = Accuracy(task=\"multiclass\", num_classes=5)\n",
    "        self.train_acc_history = []\n",
    "        self.test_step_outputs = []\n",
    "        \n",
    "    def forward(self, x):\n",
    "        return self.vgg16(x)\n",
    "    \n",
    "# Exercise 2: Optimizer\n",
    "    def configure_optimizers(self):\n",
    "        optimizer = Adam(self.parameters(), lr=0.01)\n",
    "        lr_scheduler = StepLR(optimizer=optimizer, step_size=1)\n",
    "        return [optimizer], [lr_scheduler]\n",
    "    \n",
    "# Exercise 3: Training, Validation and Test Step\n",
    "    def training_step(self, batch, batch_idx):\n",
    "        x, y = batch\n",
    "        y_hat = self.forward(x)\n",
    "        loss = cross_entropy(y_hat, y)\n",
    "        \n",
    "        # Update train accuracy\n",
    "        self.train_acc(y_hat, y)\n",
    "        \n",
    "        # Log training loss and accuracy\n",
    "        self.log(\"train_loss\", loss, on_step=True)\n",
    "        self.log(\"train_acc\", self.train_acc, on_epoch=True, prog_bar=True)\n",
    "        \n",
    "        self.train_acc(y_hat, y)\n",
    "        return loss\n",
    "    \n",
    "    def on_train_epoch_end(self):\n",
    "        # Compute and log the train accuracy for the epoch\n",
    "        train_acc_epoch = self.train_acc.compute()\n",
    "        # Store the accuracy in the history list\n",
    "        self.train_acc_history.append(train_acc_epoch.item())\n",
    "        print(f\"Epoch {self.current_epoch} - Train Accuracy: {train_acc_epoch:.4f}\")\n",
    "        # Reset metric for the next epoch\n",
    "        self.train_acc.reset()\n",
    "        \n",
    "    def on_train_end(self):\n",
    "        # Log the max train accuracy achieved\n",
    "        max_train_acc = max(self.train_acc_history)\n",
    "        print(f\"Max Train Accuracy Achieved: {max_train_acc:.4f}\")\n",
    "\n",
    "    def validation_step(self, batch, batch_idx):\n",
    "        x, y = batch\n",
    "        y_hat = self.forward(x)\n",
    "        val_loss = cross_entropy(y_hat, y)\n",
    "        self.val_acc(y_hat, y)\n",
    "        self.log(\"val_loss\", val_loss, on_step=False, on_epoch=True)\n",
    "        self.log(\"val_acc\", self.val_acc, on_epoch=True)\n",
    "        \n",
    "    def test_step(self, batch, batch_idx):\n",
    "        x, y = batch\n",
    "        y_hat = self.forward(x)\n",
    "        test_loss = cross_entropy(y_hat, y)\n",
    "        self.log(\"test_loss\", test_loss, on_step=False, on_epoch=True)\n",
    "        self.log(\"test_acc\", self.test_acc, on_step=False, on_epoch=True)\n",
    "        self.test_step_outputs.append({\"test_loss\": test_loss, \"test_acc\": self.test_acc(y_hat, y)})\n",
    "\n",
    "    def on_test_epoch_end(self):\n",
    "        avg_loss = torch.stack([x[\"test_loss\"] for x in self.test_step_outputs]).mean()\n",
    "        avg_acc = torch.stack([x[\"test_acc\"] for x in self.test_step_outputs]).mean()\n",
    "        self.log(\"avg_test_loss\", avg_loss)\n",
    "        self.log(\"avg_test_acc\", avg_acc)\n",
    "        self.test_step_outputs.clear()  # Clear the outputs after logging\n",
    "            \n",
    "if __name__ == \"__main__\":\n",
    "    # Main function of script\n",
    "    num_epochs = 100\n",
    "    \n",
    "    data_load = DataLoading()\n",
    "    train_loader, val_loader, test_loader = data_load.load_data()\n",
    "    \n",
    "# Exercise 5: Training and Evaluation\n",
    "    \n",
    "    model = CustomVGG16()\n",
    "    \n",
    "    tb_logger = pl_loggers.TensorBoardLogger(save_dir=\"logs/\")\n",
    "        \n",
    "    trainer = Trainer(devices=1, accelerator=\"auto\", log_every_n_steps=10, max_epochs=num_epochs, logger=tb_logger,\n",
    "                         callbacks=EarlyStopping(monitor=\"val_loss\", patience=5))\n",
    "\n",
    "    trainer.fit(model, train_dataloaders=train_loader, val_dataloaders=val_loader)\n",
    "    trainer.test(ckpt_path=\"best\", dataloaders=test_loader)"
   ]
  },
  {
   "cell_type": "code",
   "execution_count": null,
   "id": "6b3a9995-6ed2-4919-838a-8b48dda44ed4",
   "metadata": {},
   "outputs": [],
   "source": [
    "# Exercise 6: Results\n",
    "# Train Accuracy: 80.75%\n",
    "# Test Accuracy: 64.44%"
   ]
  }
 ],
 "metadata": {
  "kernelspec": {
   "display_name": "Python 3 (ipykernel)",
   "language": "python",
   "name": "python3"
  },
  "language_info": {
   "codemirror_mode": {
    "name": "ipython",
    "version": 3
   },
   "file_extension": ".py",
   "mimetype": "text/x-python",
   "name": "python",
   "nbconvert_exporter": "python",
   "pygments_lexer": "ipython3",
   "version": "3.10.13"
  }
 },
 "nbformat": 4,
 "nbformat_minor": 5
}
